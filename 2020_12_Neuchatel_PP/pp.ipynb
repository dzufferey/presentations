{
 "cells": [
  {
   "cell_type": "code",
   "execution_count": null,
   "metadata": {
    "slideshow": {
     "slide_type": "skip"
    }
   },
   "outputs": [],
   "source": [
    "# all the import and definitions\n",
    "import site\n",
    "site.addsitedir('./src')\n",
    "%load_ext autoreload\n",
    "%autoreload 2"
   ]
  },
  {
   "cell_type": "code",
   "execution_count": null,
   "metadata": {
    "slideshow": {
     "slide_type": "skip"
    }
   },
   "outputs": [],
   "source": [
    "%matplotlib widget\n",
    "import ipywidgets as widgets\n",
    "from ipywidgets import interact\n",
    "import matplotlib.pyplot as plt\n",
    "from matplotlib.patches import Rectangle\n",
    "import math\n",
    "import numpy as np\n",
    "from datetime import datetime\n",
    "from src.throttle import *\n",
    "from src.TwoProb import *\n",
    "import pymc3 as pm\n",
    "from theano.compile.ops import as_op\n",
    "import theano.tensor as tt\n",
    "import arviz as az"
   ]
  },
  {
   "cell_type": "code",
   "execution_count": null,
   "metadata": {
    "slideshow": {
     "slide_type": "skip"
    }
   },
   "outputs": [],
   "source": [
    "%%html\n",
    "<style>\n",
    ".large-text {\n",
    "    font-size: 120%;\n",
    "}\n",
    "</style>"
   ]
  },
  {
   "cell_type": "markdown",
   "metadata": {
    "slideshow": {
     "slide_type": "slide"
    }
   },
   "source": [
    "<center><h1>Understanding Data through Bayesian Inference and Probabilistic Programming</h1></center>\n",
    "\n",
    "<p></p>\n",
    "\n",
    "<p></p>\n",
    "\n",
    "<center>\n",
    "Damien Zufferey\n",
    "\n",
    "<img src=\"data/mpi-sws-logo.svg\" width=\"30%\"/>\n",
    "\n",
    "</center>\n",
    "\n",
    "<p></p>\n",
    "\n",
    "<center>\n",
    "8.12.2020, Université de Neuchâtel\n",
    "</center>"
   ]
  },
  {
   "cell_type": "markdown",
   "metadata": {
    "slideshow": {
     "slide_type": "notes"
    }
   },
   "source": [
    "- have a live kernel\n",
    "- run the cells with wigdets and inference for larger example\n",
    "- test code example\n",
    "  * get to initial state\n",
    "- chalkboard:\n",
    "  * erase\n",
    "  * (weylus) rate limit on tablet\n",
    "  * no sound on tablet"
   ]
  },
  {
   "cell_type": "markdown",
   "metadata": {
    "slideshow": {
     "slide_type": "subslide"
    }
   },
   "source": [
    "# About the Talk\n",
    "\n",
    "\n",
    "#### Outline \n",
    "1. Data science, some context\n",
    "2. The inference problem and Bayes rule\n",
    "3. Probabilistic programming\n",
    "\n",
    "#### Scope\n",
    "- 2nd part is closer to actual lecture\n",
    "- 3rd part is motivation and highlight topics to be covered in a full class\n",
    "\n",
    "#### Assumed Knowledge\n",
    "- basic probabilities\n",
    "- programming"
   ]
  },
  {
   "cell_type": "markdown",
   "metadata": {
    "slideshow": {
     "slide_type": "subslide"
    }
   },
   "source": [
    "### Slides\n",
    "\n",
    "https://github.com/dzufferey/presentations/tree/master/2020_12_Neuchatel_PP\n",
    "\n",
    "The code in the slide is actual running code."
   ]
  },
  {
   "cell_type": "code",
   "execution_count": null,
   "metadata": {
    "hidePrompt": true,
    "slideshow": {
     "slide_type": "-"
    }
   },
   "outputs": [],
   "source": [
    "time_button = widgets.Button(description='Running live code:')\n",
    "time_out = widgets.Output()\n",
    "def time_button_clicked(_):\n",
    "    with time_out:\n",
    "        time_out.clear_output()\n",
    "        print(datetime.now().strftime(\"click @ %Y-%m-%d %H:%M\"))\n",
    "time_button.on_click(time_button_clicked)\n",
    "widgets.HBox([time_button,time_out])"
   ]
  },
  {
   "cell_type": "markdown",
   "metadata": {
    "slideshow": {
     "slide_type": "slide"
    }
   },
   "source": [
    "# Life Cycle of Data\n",
    "\n",
    "<center>\n",
    "    \n",
    "<img src=\"data/data_lifecycle.svg\" width=\"40%\"/>\n",
    "</center>"
   ]
  },
  {
   "cell_type": "markdown",
   "metadata": {
    "slideshow": {
     "slide_type": "skip"
    }
   },
   "source": [
    "# Enabling of Data Science\n",
    "\n",
    "- __Availability of data__: Big Data, internet, IOT, ...\n",
    "- __Infrastructure__: IaaS (cloud), GPGPU, tooling, ...\n",
    "- __Algorithms__: machine learning, AI, ..."
   ]
  },
  {
   "cell_type": "markdown",
   "metadata": {
    "slideshow": {
     "slide_type": "subslide"
    }
   },
   "source": [
    "# The Skills of a Data Analyst\n",
    "\n",
    "#### Drew Conway’s Venn Diagram of data science\n",
    "\n",
    "<center>\n",
    "    \n",
    "<img src=\"data/Data_Science_VD.png\" width=\"40%\"/>\n",
    "</center>\n"
   ]
  },
  {
   "cell_type": "markdown",
   "metadata": {
    "slideshow": {
     "slide_type": "subslide"
    }
   },
   "source": [
    "# Running Example: COVID-19\n",
    "\n",
    "The \"Hello World\" example of Bayesian inference is the diagnostic of medical conditions..."
   ]
  },
  {
   "cell_type": "code",
   "execution_count": null,
   "metadata": {
    "slideshow": {
     "slide_type": "skip"
    }
   },
   "outputs": [],
   "source": [
    "import json\n",
    "import pandas as pd\n",
    "import os\n",
    "\n",
    "with open(\"data/swiss-maps.json\", 'r') as f:\n",
    "    geo_json_data = json.load(f)\n",
    "\n",
    "with open(\"data/COVID19Cases_geoRegion.csv\", 'r') as f:\n",
    "    covid_data = pd.read_csv(f)\n",
    "    \n",
    "cantons = [\"ZH\", \"BE\", \"LU\", \"UR\", \"SZ\",\n",
    "           \"OW\", \"NW\", \"GL\", \"ZG\", \"FR\",\n",
    "           \"SO\", \"BS\", \"BL\", \"SH\", \"AR\",\n",
    "           \"AI\", \"SG\", \"GR\", \"AG\", \"TG\",\n",
    "           \"TI\", \"VD\", \"VS\", \"NE\", \"GE\",\n",
    "           \"JU\"]\n",
    "\n",
    "dates = covid_data['datum'].unique()\n",
    "dates.sort()\n",
    "\n",
    "min_val = 0.0\n",
    "max_val = 0.0\n",
    "\n",
    "def getCases():\n",
    "    global max_val\n",
    "    cases = dict()\n",
    "    for c in cantons:\n",
    "        cases[c] = dict()\n",
    "        byc = covid_data.loc[covid_data.geoRegion == c]\n",
    "        # filling gaps\n",
    "        byc = byc.fillna(method='pad')\n",
    "        byc = byc.fillna(value={'mean7d': 0.0})\n",
    "        # order by dates\n",
    "        for d in dates:\n",
    "            bd = byc.loc[byc.datum == d]\n",
    "            nbr = bd['mean7d'].iat[0]\n",
    "            pop = bd['pop'].iat[0]\n",
    "            n = nbr / pop * 100000 # per 100'000\n",
    "            nl = math.log(1+n)\n",
    "            cases[c][d] = nl\n",
    "            max_val = max(max_val, nl)\n",
    "    return cases\n",
    "\n",
    "cases = getCases()\n",
    "\n",
    "#now the visualization\n",
    "import folium\n",
    "import folium.plugins\n",
    "import branca.colormap as cm\n",
    "\n",
    "linear = cm.LinearColormap(['green', 'yellow', 'red'], vmin=min_val, vmax=max_val).to_step(100)\n",
    "linear.caption = \"Covid Cases (mean 7d) per 100.000, logscale\"\n",
    "\n",
    "styledict = dict()\n",
    "for c in cantons:\n",
    "    styledict[c] = dict()\n",
    "    for d in dates:\n",
    "        dobj = datetime.strptime(d, \"%Y-%m-%d\")\n",
    "        styledict[c][int(dobj.timestamp())] =  {\n",
    "            'opacity': '0.6',\n",
    "            'color': linear(cases[c][d])\n",
    "          }\n",
    "\n",
    "m = folium.Map(\n",
    "    location=[46.8907, 8.2240],\n",
    "    zoom_start=8,\n",
    "    #tiles='Stamen Terrain',\n",
    "    width=1200,\n",
    "    height=600)\n",
    "folium.plugins.TimeSliderChoropleth(\n",
    "    geo_json_data,\n",
    "    styledict,\n",
    "    \"Covid Cases (mean 7d) per 100'000, logscale\"\n",
    ").add_to(m)\n",
    "m.add_child(linear)\n",
    "pass"
   ]
  },
  {
   "cell_type": "code",
   "execution_count": null,
   "metadata": {
    "hideCode": true,
    "hideOutput": false,
    "hidePrompt": true,
    "slideshow": {
     "slide_type": "-"
    }
   },
   "outputs": [],
   "source": [
    "m #code is in the cell above (hidden from the presentation)"
   ]
  },
  {
   "cell_type": "markdown",
   "metadata": {
    "slideshow": {
     "slide_type": "subslide"
    }
   },
   "source": [
    "# Probabilistic Programming:<br/> people build models, computers do the rest.\n",
    "\n",
    "[Inferring change points in the spread of COVID-19 reveals the effectiveness of interventions](https://science.sciencemag.org/content/369/6500/eabb9789.full) <br/>\n",
    "by Dehning et al., Science, June 2020.\n",
    "\n",
    "<center>\n",
    "\n",
    "<img src=\"data/image5128.png\" width=\"50%\"/>\n",
    "</center>\n",
    "Image taken from the arxiv tech report."
   ]
  },
  {
   "cell_type": "markdown",
   "metadata": {
    "slideshow": {
     "slide_type": "slide"
    }
   },
   "source": [
    "# Inference Problem: How Data Influence Beliefs\n",
    "\n",
    "Origin of Bayesian Inference: learning from experience, updating knowledge"
   ]
  },
  {
   "cell_type": "markdown",
   "metadata": {
    "slideshow": {
     "slide_type": "fragment"
    }
   },
   "source": [
    "$$ \\text{Hypothesis} \\xrightarrow{\\text{cause/effect}} \\text{Evidence} $$\n",
    "\n",
    "$$ \\text{Hypothesis} \\xleftarrow{\\text{inference}} \\text{Evidence} $$"
   ]
  },
  {
   "cell_type": "markdown",
   "metadata": {
    "slideshow": {
     "slide_type": "fragment"
    }
   },
   "source": [
    "Bayesian probability: degree of certainty about an hypothesis."
   ]
  },
  {
   "cell_type": "markdown",
   "metadata": {
    "slideshow": {
     "slide_type": "slide"
    }
   },
   "source": [
    "# Crash Course in Probabilities\n",
    "\n",
    "Let $A$ and $B$ be two events.\n",
    "\n",
    "$A$ happens: $$P(A)$$\n",
    "\n",
    "$A$ _does not_ happen: $$P(\\neg A) = 1 - P(A)$$\n",
    "\n",
    "$A$ and $B$ both happen: $$P(A \\cap B)$$\n",
    "\n",
    "$A$ or $B$ happen: $$P(A \\cup B) = P(A) + P(B) - P(A \\cap B)$$\n",
    "\n",
    "$A$ happens knowing that $B$ did happen: $$P(A|B) = \\frac{P(A \\cap B)}{P(B)} ~~~~~~~~~~~~~~ \\text{if} ~~ P(B) > 0$$"
   ]
  },
  {
   "cell_type": "markdown",
   "metadata": {
    "slideshow": {
     "slide_type": "subslide"
    }
   },
   "source": [
    "<center>\n",
    "\n",
    "<img src=\"data/dice3.svg\" width=\"15%\" style=\"float: right;\"/>\n",
    "</center>\n",
    "\n",
    "# Example: Fair Dice with 6 Faces\n",
    "\n",
    "- Universe is $\\{1,2,3,4,5,6\\}$, each number has equal an probability ($1/6 \\approx 17\\%$)\n",
    "- Two events:\n",
    "  * $A$ is an even number: $\\{2,4,6\\}$\n",
    "  * $B$ is a number greater than $4$: $\\{4,5,6\\}$"
   ]
  },
  {
   "cell_type": "markdown",
   "metadata": {
    "slideshow": {
     "slide_type": "fragment"
    }
   },
   "source": [
    "$$P(A) = 3/6 = 50\\%$$\n",
    "$$P(B) = 3/6 = 50\\%$$"
   ]
  },
  {
   "cell_type": "markdown",
   "metadata": {
    "slideshow": {
     "slide_type": "fragment"
    }
   },
   "source": [
    "- $A \\cap B = \\{2,4,6\\} \\cap \\{4,5,6\\} = \\{4,6\\}$"
   ]
  },
  {
   "cell_type": "markdown",
   "metadata": {
    "slideshow": {
     "slide_type": "fragment"
    }
   },
   "source": [
    "$$P(A \\cap B) = 2/6 = 33\\%$$"
   ]
  },
  {
   "cell_type": "markdown",
   "metadata": {
    "slideshow": {
     "slide_type": "fragment"
    }
   },
   "source": [
    "- $A | B$ is $\\{2,4,6\\}$ resticted to $\\{4,5,6\\}$:"
   ]
  },
  {
   "cell_type": "markdown",
   "metadata": {
    "slideshow": {
     "slide_type": "fragment"
    }
   },
   "source": [
    "$$P(A | B)  =  \\frac{P(\\{2,4,6\\} \\cap \\{4,5,6\\})}{P(\\{4,5,6\\})} = \\frac{P(\\{4,6\\})}{P(\\{4,5,6\\})} = \\frac{2/6}{3/6} = 66\\%$$"
   ]
  },
  {
   "cell_type": "markdown",
   "metadata": {
    "slideshow": {
     "slide_type": "slide"
    }
   },
   "source": [
    "# A More Visual View"
   ]
  },
  {
   "cell_type": "code",
   "execution_count": null,
   "metadata": {
    "hideCode": true,
    "hideOutput": false,
    "hidePrompt": true,
    "slideshow": {
     "slide_type": "fragment"
    }
   },
   "outputs": [],
   "source": [
    "TwoProb()"
   ]
  },
  {
   "cell_type": "markdown",
   "metadata": {
    "slideshow": {
     "slide_type": "slide"
    }
   },
   "source": [
    "# Deriving Bayes' Rule\n",
    "\n",
    "Consider two events\n",
    "- $H$: hypothesis\n",
    "- $E$: evidence\n",
    "\n",
    "#### How can we get to $P(H \\cap E)$ ?"
   ]
  },
  {
   "cell_type": "markdown",
   "metadata": {
    "slideshow": {
     "slide_type": "subslide"
    }
   },
   "source": [
    "First $E$ happens then $H$ happens: $$P(H \\cap E) = P(E) \\cdot P(H | E)$$\n",
    "\n",
    "<center>\n",
    "\n",
    "<img src=\"data/probs_1.svg\" width=\"48%\"/>\n",
    "</center>"
   ]
  },
  {
   "cell_type": "markdown",
   "metadata": {
    "slideshow": {
     "slide_type": "fragment"
    }
   },
   "source": [
    "First $H$ happens then $E$ happens: $$P(H \\cap E) = P(H) \\cdot P(E | H)$$\n",
    "\n",
    "<center>\n",
    "\n",
    "<img src=\"data/probs_2.svg\" width=\"40%\"/>\n",
    "</center>"
   ]
  },
  {
   "cell_type": "markdown",
   "metadata": {
    "slideshow": {
     "slide_type": "fragment"
    }
   },
   "source": [
    "Together we have: $$P(E) \\cdot P(H | E) = P(H) \\cdot P(E | H)$$"
   ]
  },
  {
   "cell_type": "markdown",
   "metadata": {
    "slideshow": {
     "slide_type": "subslide"
    }
   },
   "source": [
    "## Bayes' Rule\n",
    "\n",
    "$$ P(H|E) = \\frac{P(H) \\cdot P(E|H)}{P(E)} ~~~~~~~~~~~~ \\text{if} ~~ P(E)>0 $$"
   ]
  },
  {
   "cell_type": "markdown",
   "metadata": {
    "slideshow": {
     "slide_type": "fragment"
    }
   },
   "source": [
    "#### Interpretation\n",
    "- $P(H)$: __prior__, initial degree of belief in $H$\n",
    "- $P(H|E)$: __posterior__, degree of belief after observing $E$\n",
    "- $\\frac{P(E|H)}{P(E)}$: how much the observation supports the hypothesis."
   ]
  },
  {
   "cell_type": "markdown",
   "metadata": {
    "slideshow": {
     "slide_type": "fragment"
    }
   },
   "source": [
    "#### Insight\n",
    "\n",
    "relates $P(E|H)$ (cause-effect model) and $P(H|E)$ what we know after observing $E$."
   ]
  },
  {
   "cell_type": "markdown",
   "metadata": {
    "slideshow": {
     "slide_type": "subslide"
    }
   },
   "source": [
    "# Bayes' Rule Example\n",
    "\n",
    "$$P(H|E) = \\frac{P(H) \\cdot P(E|H)}{P(E)}$$\n",
    "\n",
    "Covid test:\n",
    "- $H$: has covid\n",
    "- $E$: test is positive\n",
    "\n",
    "Parts of the formula:\n",
    "- $P(H)$ is the incidence rate in the population (__prior__)\n",
    "- $P(E)$ in the fraction of positive test\n",
    "- $P(E|H)$: true positive rate\n",
    "- $P(H|E)$: has covid given a positive test (__posterior__)"
   ]
  },
  {
   "cell_type": "markdown",
   "metadata": {
    "slideshow": {
     "slide_type": "subslide"
    }
   },
   "source": [
    "<center>\n",
    "\n",
    "<img src=\"data/diagnostic.svg\" width=\"35%\"/>\n",
    "</center>"
   ]
  },
  {
   "cell_type": "markdown",
   "metadata": {
    "slideshow": {
     "slide_type": "subslide"
    }
   },
   "source": [
    "#### Gathering Data\n",
    "\n",
    "$$P(H|E) = \\frac{P(H) \\cdot P(E|H)}{P(E)}$$\n",
    "\n",
    "- $P(H) = 0.1$ (For Geneva in late May, nearly 10% of people testing positive to antibody tests!)\n",
    "- $P(E|H) = 0.8$  (20% of false negative)\n",
    "- $P(E|\\neg H) = 0.02 $ (false positive)"
   ]
  },
  {
   "cell_type": "markdown",
   "metadata": {
    "slideshow": {
     "slide_type": "skip"
    }
   },
   "source": [
    "I know the prior is wrong.\n",
    "This is a first approximation.\n",
    "We will refine this later."
   ]
  },
  {
   "cell_type": "markdown",
   "metadata": {
    "slideshow": {
     "slide_type": "fragment"
    }
   },
   "source": [
    "#### Computing $P(E)$"
   ]
  },
  {
   "cell_type": "markdown",
   "metadata": {
    "slideshow": {
     "slide_type": "fragment"
    }
   },
   "source": [
    "$P(E) = P(H) \\cdot P(E|H) + P(\\neg H) \\cdot P(E|\\neg H)$"
   ]
  },
  {
   "cell_type": "markdown",
   "metadata": {
    "slideshow": {
     "slide_type": "fragment"
    }
   },
   "source": [
    "$P(E) = 0.1 \\cdot 0.8 + 0.9 \\cdot 0.02 = 0.098 = 9.8\\%$"
   ]
  },
  {
   "cell_type": "markdown",
   "metadata": {
    "slideshow": {
     "slide_type": "subslide"
    }
   },
   "source": [
    "#### Computing $P(H|E)$\n",
    "\n",
    "$P(H|E) = \\frac{P(H) \\cdot P(E|H)}{P(E)} = \\frac{ 0.1 \\cdot 0.8}{0.098} = 0.82 = 82\\%$"
   ]
  },
  {
   "cell_type": "markdown",
   "metadata": {
    "slideshow": {
     "slide_type": "fragment"
    }
   },
   "source": [
    "#### Interpretation:\n",
    "- before the test: I have $10\\%$ chance of having covid\n",
    "- after a positive test: I have $82\\%$ chance of having covid"
   ]
  },
  {
   "cell_type": "markdown",
   "metadata": {
    "slideshow": {
     "slide_type": "fragment"
    }
   },
   "source": [
    "Also interesting: $P(H| \\neg E) = 0.3\\%$\n",
    "\n",
    "In that case, the test gives good results! (wait before premature celebration.)"
   ]
  },
  {
   "cell_type": "markdown",
   "metadata": {
    "slideshow": {
     "slide_type": "slide"
    }
   },
   "source": [
    "# Inference on Complex Model with Probabilistic Programming\n",
    "\n",
    "1. Explain how data are generated: cause-effect model as a program,\n",
    "2. Push button: inference engine figures out the probabilities."
   ]
  },
  {
   "cell_type": "markdown",
   "metadata": {
    "slideshow": {
     "slide_type": "subslide"
    }
   },
   "source": [
    "# Probabilistic Programming vs Other Paradigms\n",
    "\n",
    "`o := f(i)`\n",
    "* __\"normal\" programing__: given `f` and `i` computes `o`\n",
    "* __probabilistic programming__: given `f` and `o` infers `i`\n",
    "* __machine learning__: given `i` and `o` learns `f`"
   ]
  },
  {
   "cell_type": "code",
   "execution_count": null,
   "metadata": {
    "slideshow": {
     "slide_type": "subslide"
    }
   },
   "outputs": [],
   "source": [
    "with pm.Model():\n",
    "    s = pm.Bernoulli(\"HasCovid\", 0.1)                    # prior\n",
    "    testResult = s * 0.8 + (1 - s) * 0.02                # model\n",
    "    pm.Bernoulli(\"TestResult\", testResult, observed=1)   # observation ('1' is positive, '0' is negative)\n",
    "    test_trace = pm.sample()                             # inference\n",
    "np.average(test_trace[\"HasCovid\"])                       # posterior"
   ]
  },
  {
   "cell_type": "markdown",
   "metadata": {
    "slideshow": {
     "slide_type": "fragment"
    }
   },
   "source": [
    "Zurich has $3.4\\%$ seroprevalence, let's try with that."
   ]
  },
  {
   "cell_type": "markdown",
   "metadata": {
    "slideshow": {
     "slide_type": "fragment"
    }
   },
   "source": [
    "Seroprevalence is the cummulative number, not the active cases.\n",
    "Let us try even lower number."
   ]
  },
  {
   "cell_type": "code",
   "execution_count": null,
   "metadata": {
    "slideshow": {
     "slide_type": "skip"
    }
   },
   "outputs": [],
   "source": [
    "    # multiple tests\n",
    "    pm.Binomial(\"TestResult\", 2, testResult, observed=2)\n",
    "    # TODO meta level\n",
    "    # TODO use for optimization: find number of tests"
   ]
  },
  {
   "cell_type": "code",
   "execution_count": null,
   "metadata": {
    "slideshow": {
     "slide_type": "skip"
    }
   },
   "outputs": [],
   "source": [
    "with pm.Model() as test_model:\n",
    "    s = pm.Uniform(\"HasCovid\", 0, 1)\n",
    "    testResult = s * 0.8 + (1 - s) * 0.02\n",
    "    pm.Binomial(\"TestResult\", 10000, testResult, observed=2000)\n",
    "    test_trace = pm.sample(5000)\n",
    "    az.plot_posterior(test_trace)"
   ]
  },
  {
   "cell_type": "markdown",
   "metadata": {
    "slideshow": {
     "slide_type": "slide"
    }
   },
   "source": [
    "## Using Probabilistic Programming\n",
    "\n",
    "1. __Identification__: find the relevent elements.\n",
    "2. __Modeling__: how the elements interact to produce the result.\n",
    "3. __Inference__: feed the data\n",
    "4. __Validation__: convergence of inference, quality of fit (simulation), visualisation, etc.\n",
    "5. __Prediction__: extrapolation, loss function"
   ]
  },
  {
   "cell_type": "markdown",
   "metadata": {
    "slideshow": {
     "slide_type": "slide"
    }
   },
   "source": [
    "## Larger Example for Class Setting\n",
    "### Infering the Incidence with Tests and Testing Accuracy"
   ]
  },
  {
   "cell_type": "code",
   "execution_count": null,
   "metadata": {
    "hidePrompt": true,
    "slideshow": {
     "slide_type": "-"
    }
   },
   "outputs": [],
   "source": [
    "# artificial test data: 20% of positive tests for 100 tests\n",
    "n_test = 100\n",
    "p_test =  20"
   ]
  },
  {
   "cell_type": "code",
   "execution_count": null,
   "metadata": {
    "hidePrompt": true,
    "slideshow": {
     "slide_type": "fragment"
    }
   },
   "outputs": [],
   "source": [
    "with pm.Model() as model:\n",
    "    i        = pm.Uniform(\"incidence\", 0, 1)                      # what we want to discover\n",
    "    # data from PCR test in the UK (simplified model)\n",
    "    truePos  = pm.Uniform(\"truePositive\", 0.67, 0.98)             # 2-33% false negative\n",
    "    falsePos = pm.Uniform(\"falsePositive\", 0.008, 0.04)           # 0.8-4% false positive\n",
    "    # universe of the test \n",
    "    affected = pm.Bernoulli(\"affected\", i, shape=n_test)          # people tested\n",
    "    test1    = pm.Bernoulli(\"test1\", truePos, shape=n_test)       # chances if affected\n",
    "    test2    = pm.Bernoulli(\"test2\", falsePos, shape=n_test)      # chances if not affected"
   ]
  },
  {
   "cell_type": "code",
   "execution_count": null,
   "metadata": {
    "hidePrompt": true,
    "slideshow": {
     "slide_type": "skip"
    }
   },
   "outputs": [],
   "source": [
    "# for faster/better restult we need to set the initial point of the search closer to where we think it may be\n",
    "# this does not affect the result but we get there faster\n",
    "with model:\n",
    "    i.tag.test_value = p_test / float(n_test)\n",
    "    truePos.tag.test_value = 0.8\n",
    "    falsePos.tag.test_value = 0.02\n",
    "    affected.tag.test_value = np.random.binomial(1, i.tag.test_value, n_test)\n",
    "    test1.tag.test_value = np.random.binomial(1, truePos.tag.test_value, n_test)\n",
    "    test2.tag.test_value = np.random.binomial(1, falsePos.tag.test_value, n_test)"
   ]
  },
  {
   "cell_type": "code",
   "execution_count": null,
   "metadata": {
    "hidePrompt": true,
    "slideshow": {
     "slide_type": "fragment"
    }
   },
   "outputs": [],
   "source": [
    "with model:\n",
    "    # testing procedure: combine true and false positive to give the expected observation rate\n",
    "    val = test1*affected + test2*(1 - affected)\n",
    "    observed_proportion = pm.Deterministic(\"observed_proportion\", pm.math.sum(val)/float(n_test))\n",
    "    pm.Binomial(\"observation\", n_test, observed_proportion, observed=p_test) "
   ]
  },
  {
   "cell_type": "code",
   "execution_count": null,
   "metadata": {
    "hidePrompt": true,
    "slideshow": {
     "slide_type": "skip"
    }
   },
   "outputs": [],
   "source": [
    "# sanity check\n",
    "observed_proportion.tag.test_value"
   ]
  },
  {
   "cell_type": "markdown",
   "metadata": {
    "slideshow": {
     "slide_type": "subslide"
    }
   },
   "source": [
    "## Running the Inference Algorithm"
   ]
  },
  {
   "cell_type": "code",
   "execution_count": null,
   "metadata": {
    "hidePrompt": true,
    "slideshow": {
     "slide_type": "-"
    }
   },
   "outputs": [],
   "source": [
    "with model:\n",
    "    trace = pm.sample(50000)"
   ]
  },
  {
   "cell_type": "code",
   "execution_count": null,
   "metadata": {
    "hideCode": true,
    "hidePrompt": true,
    "slideshow": {
     "slide_type": "fragment"
    }
   },
   "outputs": [],
   "source": [
    "fig, ax = plt.subplots(1, 3, figsize=(14, 3))\n",
    "fig.canvas.toolbar_visible = False\n",
    "fig.canvas.header_visible = False\n",
    "fig.canvas.footer_visible = False\n",
    "ax[0].set_yticks([])\n",
    "ax[1].set_yticks([])\n",
    "ax[2].set_yticks([])\n",
    "az.plot_dist(trace[\"incidence\"], label=\"Incidence\", ax=ax[0])\n",
    "az.plot_dist(trace[\"truePositive\"], color=\"C2\", label=\"True Positive\", ax=ax[1])\n",
    "az.plot_dist(trace[\"falsePositive\"], color=\"C3\", label=\"False Positive\", ax=ax[2])\n",
    "plt.show()"
   ]
  },
  {
   "cell_type": "code",
   "execution_count": null,
   "metadata": {
    "hidePrompt": true,
    "slideshow": {
     "slide_type": "-"
    }
   },
   "outputs": [],
   "source": [
    "np.average(trace[\"incidence\"])"
   ]
  },
  {
   "cell_type": "code",
   "execution_count": null,
   "metadata": {
    "hideOutput": false,
    "hidePrompt": true,
    "slideshow": {
     "slide_type": "skip"
    }
   },
   "outputs": [],
   "source": [
    "fig, ax = plt.subplots(figsize=(12, 7))\n",
    "fig.canvas.toolbar_visible = False\n",
    "fig.canvas.header_visible = False\n",
    "fig.canvas.footer_visible = False\n",
    "az.plot_dist(trace[\"incidence\"], trace[\"truePositive\"], ax=ax )"
   ]
  },
  {
   "cell_type": "markdown",
   "metadata": {
    "slideshow": {
     "slide_type": "subslide"
    }
   },
   "source": [
    "## Behind the Scene: Bayesian Networks"
   ]
  },
  {
   "cell_type": "code",
   "execution_count": null,
   "metadata": {
    "hideCode": false,
    "hidePrompt": true,
    "scrolled": true,
    "slideshow": {
     "slide_type": "-"
    }
   },
   "outputs": [],
   "source": [
    "pm.model_to_graphviz(model)"
   ]
  },
  {
   "cell_type": "markdown",
   "metadata": {
    "slideshow": {
     "slide_type": "slide"
    }
   },
   "source": [
    "# Probabilistic Programming in the Real World\n",
    "\n",
    "About the COVID projection we saw earlier:\n",
    "\n",
    "<center>\n",
    "\n",
    "<img src=\"data/2004.01105.svg\" width=\"40%\"/>\n",
    "</center>"
   ]
  },
  {
   "cell_type": "markdown",
   "metadata": {
    "slideshow": {
     "slide_type": "fragment"
    }
   },
   "source": [
    "Code available at: https://github.com/Priesemann-Group/covid19_inference/\n",
    "\n",
    "<center>\n",
    "    \n",
    "<img src=\"data/covid-model-Priesemann.svg\" width=\"100%\"/>\n",
    "</center>"
   ]
  },
  {
   "cell_type": "markdown",
   "metadata": {
    "slideshow": {
     "slide_type": "skip"
    }
   },
   "source": [
    "## Some extra references:\n",
    "- model taken from the `example_bundeslaender.ipynb` notebook\n",
    "- https://www.youtube.com/watch?v=btHkSlePV5Q\n",
    "- Picture of the projection from https://arxiv.org/abs/2004.01105"
   ]
  },
  {
   "cell_type": "markdown",
   "metadata": {
    "slideshow": {
     "slide_type": "slide"
    }
   },
   "source": [
    "# Possible Exercise\n",
    "\n",
    "## Monty Hall Problem\n",
    "\n",
    "<center>\n",
    "\n",
    "\n",
    "<img src=\"data/Monty-MiddleCarSwitch.svg\" width=\"40%\"/>\n",
    "</center>\n"
   ]
  },
  {
   "cell_type": "markdown",
   "metadata": {
    "slideshow": {
     "slide_type": "subslide"
    }
   },
   "source": [
    "#### Step 1: Identify Elements"
   ]
  },
  {
   "cell_type": "code",
   "execution_count": null,
   "metadata": {
    "slideshow": {
     "slide_type": "-"
    }
   },
   "outputs": [],
   "source": [
    "with pm.Model() as montyHall:\n",
    "    car = pm.DiscreteUniform(\"car\",0,2)\n",
    "    guess = pm.DiscreteUniform(\"guess\",0,2)\n",
    "    monty = pm.DiscreteUniform(\"monty\",0,1)"
   ]
  },
  {
   "cell_type": "code",
   "execution_count": null,
   "metadata": {
    "slideshow": {
     "slide_type": "fragment"
    }
   },
   "outputs": [],
   "source": [
    "# Early Validation (sanity check)\n",
    "with montyHall:\n",
    "    winNoInfo = pm.Deterministic(\"winNoInformation\", pm.math.eq(car, guess))\n",
    "    mh_trace = pm.sample()\n",
    "\n",
    "np.average(mh_trace[\"winNoInformation\"])"
   ]
  },
  {
   "cell_type": "markdown",
   "metadata": {
    "slideshow": {
     "slide_type": "subslide"
    }
   },
   "source": [
    "#### Step 2: Modeling"
   ]
  },
  {
   "cell_type": "code",
   "execution_count": null,
   "metadata": {
    "hidePrompt": true,
    "slideshow": {
     "slide_type": "-"
    }
   },
   "outputs": [],
   "source": [
    "@as_op(itypes=[tt.lscalar,tt.lscalar,tt.lscalar], otypes=[tt.lscalar])\n",
    "def switch(car, guess, monty):\n",
    "    possibleOpen = [i for i in range(0, 3) if i != car and i != guess]\n",
    "    openDoor = possibleOpen[monty] if len(possibleOpen) > 1 else possibleOpen[0]\n",
    "    guess2 = [i for i in range(0, 3) if i != openDoor and i != guess][0]\n",
    "    return car == guess2"
   ]
  },
  {
   "cell_type": "markdown",
   "metadata": {
    "slideshow": {
     "slide_type": "fragment"
    }
   },
   "source": [
    "#### Step 3: Inference"
   ]
  },
  {
   "cell_type": "code",
   "execution_count": null,
   "metadata": {
    "slideshow": {
     "slide_type": "-"
    }
   },
   "outputs": [],
   "source": [
    "with montyHall:\n",
    "    win = pm.Deterministic(\"win\", switch(car, guess, monty))\n",
    "    mh_trace = pm.sample()\n",
    "\n",
    "np.average(mh_trace[\"win\"])"
   ]
  },
  {
   "cell_type": "markdown",
   "metadata": {
    "slideshow": {
     "slide_type": "slide"
    }
   },
   "source": [
    "<center>\n",
    "\n",
    "\n",
    "<img src=\"data/conclusion.svg\" width=\"90%\"/>\n",
    "</center>"
   ]
  },
  {
   "cell_type": "markdown",
   "metadata": {
    "slideshow": {
     "slide_type": "slide"
    }
   },
   "source": [
    "# References\n",
    "\n",
    "- [Probabilistic Programming and Bayesian Methods for Hackers](http://camdavidsonpilon.github.io/Probabilistic-Programming-and-Bayesian-Methods-for-Hackers/) by Cameron Davidson-Pilon, 2015\n",
    "- [Probabilistic Systems Analysis and Applied Probability](https://ocw.mit.edu/courses/electrical-engineering-and-computer-science/6-041-probabilistic-systems-analysis-and-applied-probability-fall-2010/) by John Tsitsiklis, 2011\n",
    "- [Introduction to Computational Thinking and Data Science](https://ocw.mit.edu/courses/electrical-engineering-and-computer-science/6-0002-introduction-to-computational-thinking-and-data-science-fall-2016/) by Eric Grimson, John Guttag, and Ana Bell, 2016.\n",
    "- [Probabilistic Programming: The What, Why and How](https://2020.splashcon.org/details/splash-2020-rebase/16/Probabilistic-Programming-The-What-Why-and-How) by Maria I. Gorinova, 2020.\n",
    "- [The Data Science Venn Diagram](http://drewconway.com/zia/2013/3/26/the-data-science-venn-diagram) by Drew Conway, 2010. (image distributed under CC-BY-NC license)\n",
    "- [Probabilistic programming in Python using PyMC3](https://peerj.com/articles/cs-55/) by John Salvatier, Thomas V. Wiecki, and Christopher Fonnesbeck, 2016"
   ]
  },
  {
   "cell_type": "markdown",
   "metadata": {
    "slideshow": {
     "slide_type": "subslide"
    }
   },
   "source": [
    "# Source for Code and Data\n",
    "\n",
    "* [Inferring change points in the spread of COVID-19 reveals the effectiveness of interventions](https://science.sciencemag.org/content/369/6500/eabb9789.full) by Jonas Dehning, Johannes Zierenberg, F. Paul Spitzner, Michael Wibral, Joao Pinheiro Neto, Michael Wilczek, Viola Priesemann, June 2020.\n",
    "* [Seroprevalence of anti-SARS-CoV-2 IgG antibodies in Geneva, Switzerland (SEROCoV-POP): a population-based study](https://www.thelancet.com/journals/lancet/article/PIIS0140-6736(20)31304-0/fulltext) by Silvia Stringhini, Ania Wisniak, Giovanni Piumatti, Andrew S Azman, Stephen A Lauer, Hélène Baysson, David De Ridder, Dusan Petrovic, Stephanie Schrempft, Kailing Marcus, Sabine Yerly, Isabelle Arm Vernez, Prof Olivia Keiser, Samia Hurst, Klara M Posfay-Barbe, Didier Trono, Didier Pittet, Laurent Gétaz, François Chappuis, Isabella Eckerle, Nicolas Vuilleumier, Benjamin Meyer, Antoine Flahault, Laurent Kaiser, and Idris Guessous, June 2020.\n",
    "* https://www.corona-immunitas.ch/en/, Swiss School of Public Health (SSPH+) \n",
    "* [Impact of false-positives and false-negatives in the UK’s COVID-19 RT-PCR testing programme](https://assets.publishing.service.gov.uk/government/uploads/system/uploads/attachment_data/file/895843/S0519_Impact_of_false_positives_and_negatives.pdf) by Carl Mayers and Kate Baker, June 2020\n",
    "* [COVID-19 Suisse](https://www.covid19.admin.ch/en/overview) Office fédéral de la santé publique OFSP"
   ]
  }
 ],
 "metadata": {
  "celltoolbar": "Slideshow",
  "kernelspec": {
   "display_name": "Python 3",
   "language": "python",
   "name": "python3"
  },
  "language_info": {
   "codemirror_mode": {
    "name": "ipython",
    "version": 3
   },
   "file_extension": ".py",
   "mimetype": "text/x-python",
   "name": "python",
   "nbconvert_exporter": "python",
   "pygments_lexer": "ipython3",
   "version": "3.8.6"
  },
  "rise": {
   "chalkboard": {
    "color": [
     "rgb(250, 0, 0)",
     "rgb(250, 250, 250)"
    ]
   },
   "enable_chalkboard": true
  }
 },
 "nbformat": 4,
 "nbformat_minor": 4
}
